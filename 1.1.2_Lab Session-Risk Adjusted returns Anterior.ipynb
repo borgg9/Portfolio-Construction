{
 "cells": [
  {
   "cell_type": "code",
   "execution_count": 8,
   "metadata": {},
   "outputs": [
    {
     "data": {
      "text/html": [
       "<div>\n",
       "<style scoped>\n",
       "    .dataframe tbody tr th:only-of-type {\n",
       "        vertical-align: middle;\n",
       "    }\n",
       "\n",
       "    .dataframe tbody tr th {\n",
       "        vertical-align: top;\n",
       "    }\n",
       "\n",
       "    .dataframe thead th {\n",
       "        text-align: right;\n",
       "    }\n",
       "</style>\n",
       "<table border=\"1\" class=\"dataframe\">\n",
       "  <thead>\n",
       "    <tr style=\"text-align: right;\">\n",
       "      <th></th>\n",
       "      <th>BLUE</th>\n",
       "      <th>ORANGE</th>\n",
       "    </tr>\n",
       "  </thead>\n",
       "  <tbody>\n",
       "    <tr>\n",
       "      <td>0</td>\n",
       "      <td>NaN</td>\n",
       "      <td>NaN</td>\n",
       "    </tr>\n",
       "    <tr>\n",
       "      <td>1</td>\n",
       "      <td>0.023621</td>\n",
       "      <td>0.039662</td>\n",
       "    </tr>\n",
       "    <tr>\n",
       "      <td>2</td>\n",
       "      <td>-0.021807</td>\n",
       "      <td>-0.033638</td>\n",
       "    </tr>\n",
       "    <tr>\n",
       "      <td>3</td>\n",
       "      <td>-0.031763</td>\n",
       "      <td>0.082232</td>\n",
       "    </tr>\n",
       "    <tr>\n",
       "      <td>4</td>\n",
       "      <td>0.034477</td>\n",
       "      <td>0.044544</td>\n",
       "    </tr>\n",
       "    <tr>\n",
       "      <td>5</td>\n",
       "      <td>0.037786</td>\n",
       "      <td>-0.026381</td>\n",
       "    </tr>\n",
       "    <tr>\n",
       "      <td>6</td>\n",
       "      <td>-0.011452</td>\n",
       "      <td>-0.049187</td>\n",
       "    </tr>\n",
       "    <tr>\n",
       "      <td>7</td>\n",
       "      <td>0.032676</td>\n",
       "      <td>0.117008</td>\n",
       "    </tr>\n",
       "    <tr>\n",
       "      <td>8</td>\n",
       "      <td>-0.012581</td>\n",
       "      <td>0.067353</td>\n",
       "    </tr>\n",
       "    <tr>\n",
       "      <td>9</td>\n",
       "      <td>0.029581</td>\n",
       "      <td>0.078249</td>\n",
       "    </tr>\n",
       "    <tr>\n",
       "      <td>10</td>\n",
       "      <td>0.006151</td>\n",
       "      <td>-0.168261</td>\n",
       "    </tr>\n",
       "    <tr>\n",
       "      <td>11</td>\n",
       "      <td>0.012162</td>\n",
       "      <td>0.024041</td>\n",
       "    </tr>\n",
       "    <tr>\n",
       "      <td>12</td>\n",
       "      <td>0.021149</td>\n",
       "      <td>-0.055623</td>\n",
       "    </tr>\n",
       "  </tbody>\n",
       "</table>\n",
       "</div>"
      ],
      "text/plain": [
       "        BLUE    ORANGE\n",
       "0        NaN       NaN\n",
       "1   0.023621  0.039662\n",
       "2  -0.021807 -0.033638\n",
       "3  -0.031763  0.082232\n",
       "4   0.034477  0.044544\n",
       "5   0.037786 -0.026381\n",
       "6  -0.011452 -0.049187\n",
       "7   0.032676  0.117008\n",
       "8  -0.012581  0.067353\n",
       "9   0.029581  0.078249\n",
       "10  0.006151 -0.168261\n",
       "11  0.012162  0.024041\n",
       "12  0.021149 -0.055623"
      ]
     },
     "execution_count": 8,
     "metadata": {},
     "output_type": "execute_result"
    }
   ],
   "source": [
    "import pandas as pd\n",
    "\n",
    "prices = pd.read_csv(\"data/sample_prices.csv\")\n",
    "returns = prices.pct_change()\n",
    "\n",
    "returns"
   ]
  },
  {
   "cell_type": "code",
   "execution_count": 10,
   "metadata": {},
   "outputs": [
    {
     "data": {
      "text/html": [
       "<div>\n",
       "<style scoped>\n",
       "    .dataframe tbody tr th:only-of-type {\n",
       "        vertical-align: middle;\n",
       "    }\n",
       "\n",
       "    .dataframe tbody tr th {\n",
       "        vertical-align: top;\n",
       "    }\n",
       "\n",
       "    .dataframe thead th {\n",
       "        text-align: right;\n",
       "    }\n",
       "</style>\n",
       "<table border=\"1\" class=\"dataframe\">\n",
       "  <thead>\n",
       "    <tr style=\"text-align: right;\">\n",
       "      <th></th>\n",
       "      <th>BLUE</th>\n",
       "      <th>ORANGE</th>\n",
       "    </tr>\n",
       "  </thead>\n",
       "  <tbody>\n",
       "    <tr>\n",
       "      <td>1</td>\n",
       "      <td>0.023621</td>\n",
       "      <td>0.039662</td>\n",
       "    </tr>\n",
       "    <tr>\n",
       "      <td>2</td>\n",
       "      <td>-0.021807</td>\n",
       "      <td>-0.033638</td>\n",
       "    </tr>\n",
       "    <tr>\n",
       "      <td>3</td>\n",
       "      <td>-0.031763</td>\n",
       "      <td>0.082232</td>\n",
       "    </tr>\n",
       "    <tr>\n",
       "      <td>4</td>\n",
       "      <td>0.034477</td>\n",
       "      <td>0.044544</td>\n",
       "    </tr>\n",
       "    <tr>\n",
       "      <td>5</td>\n",
       "      <td>0.037786</td>\n",
       "      <td>-0.026381</td>\n",
       "    </tr>\n",
       "    <tr>\n",
       "      <td>6</td>\n",
       "      <td>-0.011452</td>\n",
       "      <td>-0.049187</td>\n",
       "    </tr>\n",
       "    <tr>\n",
       "      <td>7</td>\n",
       "      <td>0.032676</td>\n",
       "      <td>0.117008</td>\n",
       "    </tr>\n",
       "    <tr>\n",
       "      <td>8</td>\n",
       "      <td>-0.012581</td>\n",
       "      <td>0.067353</td>\n",
       "    </tr>\n",
       "    <tr>\n",
       "      <td>9</td>\n",
       "      <td>0.029581</td>\n",
       "      <td>0.078249</td>\n",
       "    </tr>\n",
       "    <tr>\n",
       "      <td>10</td>\n",
       "      <td>0.006151</td>\n",
       "      <td>-0.168261</td>\n",
       "    </tr>\n",
       "    <tr>\n",
       "      <td>11</td>\n",
       "      <td>0.012162</td>\n",
       "      <td>0.024041</td>\n",
       "    </tr>\n",
       "    <tr>\n",
       "      <td>12</td>\n",
       "      <td>0.021149</td>\n",
       "      <td>-0.055623</td>\n",
       "    </tr>\n",
       "  </tbody>\n",
       "</table>\n",
       "</div>"
      ],
      "text/plain": [
       "        BLUE    ORANGE\n",
       "1   0.023621  0.039662\n",
       "2  -0.021807 -0.033638\n",
       "3  -0.031763  0.082232\n",
       "4   0.034477  0.044544\n",
       "5   0.037786 -0.026381\n",
       "6  -0.011452 -0.049187\n",
       "7   0.032676  0.117008\n",
       "8  -0.012581  0.067353\n",
       "9   0.029581  0.078249\n",
       "10  0.006151 -0.168261\n",
       "11  0.012162  0.024041\n",
       "12  0.021149 -0.055623"
      ]
     },
     "execution_count": 10,
     "metadata": {},
     "output_type": "execute_result"
    }
   ],
   "source": [
    "returns = returns.dropna()\n",
    "returns"
   ]
  },
  {
   "cell_type": "code",
   "execution_count": 11,
   "metadata": {},
   "outputs": [
    {
     "data": {
      "text/plain": [
       "BLUE      0.023977\n",
       "ORANGE    0.079601\n",
       "dtype: float64"
      ]
     },
     "execution_count": 11,
     "metadata": {},
     "output_type": "execute_result"
    }
   ],
   "source": [
    "returns.std()"
   ]
  },
  {
   "cell_type": "code",
   "execution_count": 14,
   "metadata": {},
   "outputs": [
    {
     "data": {
      "text/plain": [
       "BLUE      0.022957\n",
       "ORANGE    0.076212\n",
       "dtype: float64"
      ]
     },
     "execution_count": 14,
     "metadata": {},
     "output_type": "execute_result"
    }
   ],
   "source": [
    "deviations = returns - returns.mean()\n",
    "squared_deviations = deviations**2\n",
    "variance = squared_deviations.mean()\n",
    "\n",
    "import numpy as np\n",
    "volatility = np.sqrt(variance)\n",
    "volatility"
   ]
  },
  {
   "cell_type": "code",
   "execution_count": 17,
   "metadata": {},
   "outputs": [
    {
     "data": {
      "text/plain": [
       "(12, 2)"
      ]
     },
     "execution_count": 17,
     "metadata": {},
     "output_type": "execute_result"
    }
   ],
   "source": [
    "returns.shape"
   ]
  },
  {
   "cell_type": "code",
   "execution_count": 21,
   "metadata": {},
   "outputs": [
    {
     "data": {
      "text/plain": [
       "BLUE      0.023977\n",
       "ORANGE    0.079601\n",
       "dtype: float64"
      ]
     },
     "execution_count": 21,
     "metadata": {},
     "output_type": "execute_result"
    }
   ],
   "source": [
    "number_of_obs = returns.shape[0]\n",
    "variance = squared_deviations.sum() / (number_of_obs - 1)\n",
    "volatility = variance ** 0.5\n",
    "\n",
    "volatility"
   ]
  },
  {
   "cell_type": "code",
   "execution_count": 22,
   "metadata": {},
   "outputs": [
    {
     "data": {
      "text/plain": [
       "BLUE      0.083060\n",
       "ORANGE    0.275747\n",
       "dtype: float64"
      ]
     },
     "execution_count": 22,
     "metadata": {},
     "output_type": "execute_result"
    }
   ],
   "source": [
    "returns.std() * np.sqrt(12)"
   ]
  },
  {
   "cell_type": "code",
   "execution_count": 23,
   "metadata": {
    "scrolled": true
   },
   "outputs": [
    {
     "data": {
      "text/plain": [
       "BLUE      0.083060\n",
       "ORANGE    0.275747\n",
       "dtype: float64"
      ]
     },
     "execution_count": 23,
     "metadata": {},
     "output_type": "execute_result"
    }
   ],
   "source": [
    "returns.std() * (12**0.5)"
   ]
  },
  {
   "cell_type": "code",
   "execution_count": 148,
   "metadata": {},
   "outputs": [],
   "source": [
    "returns = pd.read_csv(\"data/Portfolios_Formed_on_ME_monthly_EW.csv\",\n",
    "                     header = 0, index_col = 0, parse_dates = True,na_values = -99.99\n",
    "                     )"
   ]
  },
  {
   "cell_type": "code",
   "execution_count": 41,
   "metadata": {},
   "outputs": [
    {
     "data": {
      "text/html": [
       "<div>\n",
       "<style scoped>\n",
       "    .dataframe tbody tr th:only-of-type {\n",
       "        vertical-align: middle;\n",
       "    }\n",
       "\n",
       "    .dataframe tbody tr th {\n",
       "        vertical-align: top;\n",
       "    }\n",
       "\n",
       "    .dataframe thead th {\n",
       "        text-align: right;\n",
       "    }\n",
       "</style>\n",
       "<table border=\"1\" class=\"dataframe\">\n",
       "  <thead>\n",
       "    <tr style=\"text-align: right;\">\n",
       "      <th></th>\n",
       "      <th>&lt;= 0</th>\n",
       "      <th>Lo 30</th>\n",
       "      <th>Med 40</th>\n",
       "      <th>Hi 30</th>\n",
       "      <th>Lo 20</th>\n",
       "      <th>Qnt 2</th>\n",
       "      <th>Qnt 3</th>\n",
       "      <th>Qnt 4</th>\n",
       "      <th>Hi 20</th>\n",
       "      <th>Lo 10</th>\n",
       "      <th>Dec 2</th>\n",
       "      <th>Dec 3</th>\n",
       "      <th>Dec 4</th>\n",
       "      <th>Dec 5</th>\n",
       "      <th>Dec 6</th>\n",
       "      <th>Dec 7</th>\n",
       "      <th>Dec 8</th>\n",
       "      <th>Dec 9</th>\n",
       "      <th>Hi 10</th>\n",
       "    </tr>\n",
       "  </thead>\n",
       "  <tbody>\n",
       "    <tr>\n",
       "      <td>192607</td>\n",
       "      <td>NaN</td>\n",
       "      <td>-0.43</td>\n",
       "      <td>1.52</td>\n",
       "      <td>2.68</td>\n",
       "      <td>-0.57</td>\n",
       "      <td>0.59</td>\n",
       "      <td>1.60</td>\n",
       "      <td>1.47</td>\n",
       "      <td>3.33</td>\n",
       "      <td>-1.45</td>\n",
       "      <td>0.29</td>\n",
       "      <td>-0.15</td>\n",
       "      <td>1.33</td>\n",
       "      <td>1.24</td>\n",
       "      <td>1.98</td>\n",
       "      <td>1.55</td>\n",
       "      <td>1.38</td>\n",
       "      <td>3.38</td>\n",
       "      <td>3.29</td>\n",
       "    </tr>\n",
       "    <tr>\n",
       "      <td>192608</td>\n",
       "      <td>NaN</td>\n",
       "      <td>3.90</td>\n",
       "      <td>3.04</td>\n",
       "      <td>2.09</td>\n",
       "      <td>3.84</td>\n",
       "      <td>3.59</td>\n",
       "      <td>3.71</td>\n",
       "      <td>1.61</td>\n",
       "      <td>2.33</td>\n",
       "      <td>5.12</td>\n",
       "      <td>2.59</td>\n",
       "      <td>4.03</td>\n",
       "      <td>3.15</td>\n",
       "      <td>2.72</td>\n",
       "      <td>4.72</td>\n",
       "      <td>1.60</td>\n",
       "      <td>1.63</td>\n",
       "      <td>0.98</td>\n",
       "      <td>3.70</td>\n",
       "    </tr>\n",
       "    <tr>\n",
       "      <td>192609</td>\n",
       "      <td>NaN</td>\n",
       "      <td>-1.08</td>\n",
       "      <td>-0.54</td>\n",
       "      <td>0.16</td>\n",
       "      <td>-0.48</td>\n",
       "      <td>-1.40</td>\n",
       "      <td>0.00</td>\n",
       "      <td>-0.50</td>\n",
       "      <td>-0.09</td>\n",
       "      <td>0.93</td>\n",
       "      <td>-1.87</td>\n",
       "      <td>-2.27</td>\n",
       "      <td>-0.53</td>\n",
       "      <td>0.07</td>\n",
       "      <td>-0.07</td>\n",
       "      <td>-1.64</td>\n",
       "      <td>0.64</td>\n",
       "      <td>-0.86</td>\n",
       "      <td>0.67</td>\n",
       "    </tr>\n",
       "    <tr>\n",
       "      <td>192610</td>\n",
       "      <td>NaN</td>\n",
       "      <td>-3.32</td>\n",
       "      <td>-3.52</td>\n",
       "      <td>-3.06</td>\n",
       "      <td>-3.29</td>\n",
       "      <td>-4.10</td>\n",
       "      <td>-2.89</td>\n",
       "      <td>-3.36</td>\n",
       "      <td>-2.95</td>\n",
       "      <td>-4.84</td>\n",
       "      <td>-1.77</td>\n",
       "      <td>-3.36</td>\n",
       "      <td>-4.83</td>\n",
       "      <td>-2.98</td>\n",
       "      <td>-2.80</td>\n",
       "      <td>-3.45</td>\n",
       "      <td>-3.27</td>\n",
       "      <td>-3.47</td>\n",
       "      <td>-2.43</td>\n",
       "    </tr>\n",
       "    <tr>\n",
       "      <td>192611</td>\n",
       "      <td>NaN</td>\n",
       "      <td>-0.46</td>\n",
       "      <td>3.82</td>\n",
       "      <td>3.09</td>\n",
       "      <td>-0.55</td>\n",
       "      <td>2.18</td>\n",
       "      <td>3.41</td>\n",
       "      <td>3.39</td>\n",
       "      <td>3.16</td>\n",
       "      <td>-0.78</td>\n",
       "      <td>-0.32</td>\n",
       "      <td>-0.29</td>\n",
       "      <td>4.65</td>\n",
       "      <td>3.24</td>\n",
       "      <td>3.57</td>\n",
       "      <td>3.82</td>\n",
       "      <td>2.95</td>\n",
       "      <td>3.61</td>\n",
       "      <td>2.70</td>\n",
       "    </tr>\n",
       "  </tbody>\n",
       "</table>\n",
       "</div>"
      ],
      "text/plain": [
       "        <= 0  Lo 30  Med 40  Hi 30  Lo 20  Qnt 2  Qnt 3  Qnt 4  Hi 20  Lo 10  \\\n",
       "192607   NaN  -0.43    1.52   2.68  -0.57   0.59   1.60   1.47   3.33  -1.45   \n",
       "192608   NaN   3.90    3.04   2.09   3.84   3.59   3.71   1.61   2.33   5.12   \n",
       "192609   NaN  -1.08   -0.54   0.16  -0.48  -1.40   0.00  -0.50  -0.09   0.93   \n",
       "192610   NaN  -3.32   -3.52  -3.06  -3.29  -4.10  -2.89  -3.36  -2.95  -4.84   \n",
       "192611   NaN  -0.46    3.82   3.09  -0.55   2.18   3.41   3.39   3.16  -0.78   \n",
       "\n",
       "        Dec 2  Dec 3  Dec 4  Dec 5  Dec 6  Dec 7  Dec 8  Dec 9  Hi 10  \n",
       "192607   0.29  -0.15   1.33   1.24   1.98   1.55   1.38   3.38   3.29  \n",
       "192608   2.59   4.03   3.15   2.72   4.72   1.60   1.63   0.98   3.70  \n",
       "192609  -1.87  -2.27  -0.53   0.07  -0.07  -1.64   0.64  -0.86   0.67  \n",
       "192610  -1.77  -3.36  -4.83  -2.98  -2.80  -3.45  -3.27  -3.47  -2.43  \n",
       "192611  -0.32  -0.29   4.65   3.24   3.57   3.82   2.95   3.61   2.70  "
      ]
     },
     "execution_count": 41,
     "metadata": {},
     "output_type": "execute_result"
    }
   ],
   "source": [
    "returns.head()"
   ]
  },
  {
   "cell_type": "code",
   "execution_count": 161,
   "metadata": {},
   "outputs": [
    {
     "data": {
      "text/html": [
       "<div>\n",
       "<style scoped>\n",
       "    .dataframe tbody tr th:only-of-type {\n",
       "        vertical-align: middle;\n",
       "    }\n",
       "\n",
       "    .dataframe tbody tr th {\n",
       "        vertical-align: top;\n",
       "    }\n",
       "\n",
       "    .dataframe thead th {\n",
       "        text-align: right;\n",
       "    }\n",
       "</style>\n",
       "<table border=\"1\" class=\"dataframe\">\n",
       "  <thead>\n",
       "    <tr style=\"text-align: right;\">\n",
       "      <th></th>\n",
       "      <th>Lo 20</th>\n",
       "      <th>Hi 20</th>\n",
       "    </tr>\n",
       "  </thead>\n",
       "  <tbody>\n",
       "    <tr>\n",
       "      <td>192607</td>\n",
       "      <td>-0.0057</td>\n",
       "      <td>0.0333</td>\n",
       "    </tr>\n",
       "    <tr>\n",
       "      <td>192608</td>\n",
       "      <td>0.0384</td>\n",
       "      <td>0.0233</td>\n",
       "    </tr>\n",
       "    <tr>\n",
       "      <td>192609</td>\n",
       "      <td>-0.0048</td>\n",
       "      <td>-0.0009</td>\n",
       "    </tr>\n",
       "    <tr>\n",
       "      <td>192610</td>\n",
       "      <td>-0.0329</td>\n",
       "      <td>-0.0295</td>\n",
       "    </tr>\n",
       "    <tr>\n",
       "      <td>192611</td>\n",
       "      <td>-0.0055</td>\n",
       "      <td>0.0316</td>\n",
       "    </tr>\n",
       "  </tbody>\n",
       "</table>\n",
       "</div>"
      ],
      "text/plain": [
       "         Lo 20   Hi 20\n",
       "192607 -0.0057  0.0333\n",
       "192608  0.0384  0.0233\n",
       "192609 -0.0048 -0.0009\n",
       "192610 -0.0329 -0.0295\n",
       "192611 -0.0055  0.0316"
      ]
     },
     "execution_count": 161,
     "metadata": {},
     "output_type": "execute_result"
    }
   ],
   "source": [
    "columns = ['Lo 20', 'Hi 20']\n",
    "returns = returns[columns]\n",
    "returns.head()"
   ]
  },
  {
   "cell_type": "code",
   "execution_count": 150,
   "metadata": {},
   "outputs": [
    {
     "data": {
      "text/html": [
       "<div>\n",
       "<style scoped>\n",
       "    .dataframe tbody tr th:only-of-type {\n",
       "        vertical-align: middle;\n",
       "    }\n",
       "\n",
       "    .dataframe tbody tr th {\n",
       "        vertical-align: top;\n",
       "    }\n",
       "\n",
       "    .dataframe thead th {\n",
       "        text-align: right;\n",
       "    }\n",
       "</style>\n",
       "<table border=\"1\" class=\"dataframe\">\n",
       "  <thead>\n",
       "    <tr style=\"text-align: right;\">\n",
       "      <th></th>\n",
       "      <th>Lo 20</th>\n",
       "      <th>Hi 20</th>\n",
       "    </tr>\n",
       "  </thead>\n",
       "  <tbody>\n",
       "    <tr>\n",
       "      <td>192607</td>\n",
       "      <td>-0.0057</td>\n",
       "      <td>0.0333</td>\n",
       "    </tr>\n",
       "    <tr>\n",
       "      <td>192608</td>\n",
       "      <td>0.0384</td>\n",
       "      <td>0.0233</td>\n",
       "    </tr>\n",
       "    <tr>\n",
       "      <td>192609</td>\n",
       "      <td>-0.0048</td>\n",
       "      <td>-0.0009</td>\n",
       "    </tr>\n",
       "    <tr>\n",
       "      <td>192610</td>\n",
       "      <td>-0.0329</td>\n",
       "      <td>-0.0295</td>\n",
       "    </tr>\n",
       "    <tr>\n",
       "      <td>192611</td>\n",
       "      <td>-0.0055</td>\n",
       "      <td>0.0316</td>\n",
       "    </tr>\n",
       "  </tbody>\n",
       "</table>\n",
       "</div>"
      ],
      "text/plain": [
       "         Lo 20   Hi 20\n",
       "192607 -0.0057  0.0333\n",
       "192608  0.0384  0.0233\n",
       "192609 -0.0048 -0.0009\n",
       "192610 -0.0329 -0.0295\n",
       "192611 -0.0055  0.0316"
      ]
     },
     "execution_count": 150,
     "metadata": {},
     "output_type": "execute_result"
    }
   ],
   "source": [
    "returns = returns / 100\n",
    "returns.head()"
   ]
  },
  {
   "cell_type": "code",
   "execution_count": 167,
   "metadata": {},
   "outputs": [],
   "source": [
    "returns.columns = ['SmallCap', 'LargeCap']"
   ]
  },
  {
   "cell_type": "code",
   "execution_count": 168,
   "metadata": {},
   "outputs": [
    {
     "data": {
      "text/html": [
       "<div>\n",
       "<style scoped>\n",
       "    .dataframe tbody tr th:only-of-type {\n",
       "        vertical-align: middle;\n",
       "    }\n",
       "\n",
       "    .dataframe tbody tr th {\n",
       "        vertical-align: top;\n",
       "    }\n",
       "\n",
       "    .dataframe thead th {\n",
       "        text-align: right;\n",
       "    }\n",
       "</style>\n",
       "<table border=\"1\" class=\"dataframe\">\n",
       "  <thead>\n",
       "    <tr style=\"text-align: right;\">\n",
       "      <th></th>\n",
       "      <th>SmallCap</th>\n",
       "      <th>LargeCap</th>\n",
       "    </tr>\n",
       "  </thead>\n",
       "  <tbody>\n",
       "    <tr>\n",
       "      <td>192607</td>\n",
       "      <td>-0.0057</td>\n",
       "      <td>0.0333</td>\n",
       "    </tr>\n",
       "    <tr>\n",
       "      <td>192608</td>\n",
       "      <td>0.0384</td>\n",
       "      <td>0.0233</td>\n",
       "    </tr>\n",
       "    <tr>\n",
       "      <td>192609</td>\n",
       "      <td>-0.0048</td>\n",
       "      <td>-0.0009</td>\n",
       "    </tr>\n",
       "    <tr>\n",
       "      <td>192610</td>\n",
       "      <td>-0.0329</td>\n",
       "      <td>-0.0295</td>\n",
       "    </tr>\n",
       "    <tr>\n",
       "      <td>192611</td>\n",
       "      <td>-0.0055</td>\n",
       "      <td>0.0316</td>\n",
       "    </tr>\n",
       "  </tbody>\n",
       "</table>\n",
       "</div>"
      ],
      "text/plain": [
       "        SmallCap  LargeCap\n",
       "192607   -0.0057    0.0333\n",
       "192608    0.0384    0.0233\n",
       "192609   -0.0048   -0.0009\n",
       "192610   -0.0329   -0.0295\n",
       "192611   -0.0055    0.0316"
      ]
     },
     "execution_count": 168,
     "metadata": {},
     "output_type": "execute_result"
    }
   ],
   "source": [
    "returns.head()"
   ]
  },
  {
   "cell_type": "code",
   "execution_count": 152,
   "metadata": {},
   "outputs": [
    {
     "data": {
      "text/plain": [
       "<matplotlib.axes._subplots.AxesSubplot at 0x118aa49d0>"
      ]
     },
     "execution_count": 152,
     "metadata": {},
     "output_type": "execute_result"
    },
    {
     "data": {
      "image/png": "[encoded data removed]",
      "text/plain": [
       "<Figure size 432x288 with 1 Axes>"
      ]
     },
     "metadata": {
      "needs_background": "light"
     },
     "output_type": "display_data"
    }
   ],
   "source": [
    "returns.plot()"
   ]
  },
  {
   "cell_type": "code",
   "execution_count": 153,
   "metadata": {},
   "outputs": [
    {
     "data": {
      "text/plain": [
       "Lo 20    0.097197\n",
       "Hi 20    0.056325\n",
       "dtype: float64"
      ]
     },
     "execution_count": 153,
     "metadata": {},
     "output_type": "execute_result"
    }
   ],
   "source": [
    "returns.std()"
   ]
  },
  {
   "cell_type": "code",
   "execution_count": 154,
   "metadata": {},
   "outputs": [
    {
     "data": {
      "text/plain": [
       "Lo 20    0.336701\n",
       "Hi 20    0.195116\n",
       "dtype: float64"
      ]
     },
     "execution_count": 154,
     "metadata": {},
     "output_type": "execute_result"
    }
   ],
   "source": [
    "annualized_vol = returns.std() * np.sqrt(12)\n",
    "annualized_vol"
   ]
  },
  {
   "cell_type": "code",
   "execution_count": 155,
   "metadata": {},
   "outputs": [
    {
     "data": {
      "text/plain": [
       "Lo 20    0.011860\n",
       "Hi 20    0.007859\n",
       "dtype: float64"
      ]
     },
     "execution_count": 155,
     "metadata": {},
     "output_type": "execute_result"
    }
   ],
   "source": [
    "n_months=rets.shape[0]\n",
    "\n",
    "returns_per_month = (rets+1).prod()**(1/n_months) - 1\n",
    "\n",
    "annualized_return = (returns_per_month + 1)**12 - 1\n",
    "\n",
    "annualized_return"
   ]
  },
  {
   "cell_type": "code",
   "execution_count": 156,
   "metadata": {},
   "outputs": [
    {
     "data": {
      "text/plain": [
       "Lo 20    0.336701\n",
       "Hi 20    0.195116\n",
       "dtype: float64"
      ]
     },
     "execution_count": 156,
     "metadata": {},
     "output_type": "execute_result"
    }
   ],
   "source": [
    "annualized_vol"
   ]
  },
  {
   "cell_type": "code",
   "execution_count": 157,
   "metadata": {},
   "outputs": [
    {
     "data": {
      "text/plain": [
       "Lo 20    0.151977\n",
       "Hi 20    0.098490\n",
       "dtype: float64"
      ]
     },
     "execution_count": 157,
     "metadata": {},
     "output_type": "execute_result"
    }
   ],
   "source": [
    "annualized_return = (returns_per_month + 1)**12 - 1\n",
    "\n",
    "annualized_return"
   ]
  },
  {
   "cell_type": "code",
   "execution_count": 143,
   "metadata": {},
   "outputs": [
    {
     "data": {
      "text/plain": [
       "SmallCap    0.167463\n",
       "LargeCap    0.092810\n",
       "dtype: float64"
      ]
     },
     "execution_count": 143,
     "metadata": {},
     "output_type": "execute_result"
    }
   ],
   "source": [
    "annualized_return = (returns+1).prod()**(12/n_months) - 1\n",
    "annualized_return"
   ]
  },
  {
   "cell_type": "code",
   "execution_count": 141,
   "metadata": {},
   "outputs": [
    {
     "data": {
      "text/plain": [
       "SmallCap    0.454825\n",
       "LargeCap    0.497063\n",
       "dtype: float64"
      ]
     },
     "execution_count": 141,
     "metadata": {},
     "output_type": "execute_result"
    }
   ],
   "source": [
    "annualized_return / annualized_vol\n"
   ]
  },
  {
   "cell_type": "code",
   "execution_count": 145,
   "metadata": {},
   "outputs": [
    {
     "data": {
      "text/plain": [
       "SmallCap    0.373346\n",
       "LargeCap    0.336392\n",
       "dtype: float64"
      ]
     },
     "execution_count": 145,
     "metadata": {},
     "output_type": "execute_result"
    }
   ],
   "source": [
    "riskfree_rate = 0.03\n",
    "excess_return = annualized_return - riskfree_rate\n",
    "sharpe_ratio = excess_return / annualized_vol\n",
    "sharpe_ratio"
   ]
  },
  {
   "cell_type": "code",
   "execution_count": 146,
   "metadata": {},
   "outputs": [
    {
     "data": {
      "text/html": [
       "<div>\n",
       "<style scoped>\n",
       "    .dataframe tbody tr th:only-of-type {\n",
       "        vertical-align: middle;\n",
       "    }\n",
       "\n",
       "    .dataframe tbody tr th {\n",
       "        vertical-align: top;\n",
       "    }\n",
       "\n",
       "    .dataframe thead th {\n",
       "        text-align: right;\n",
       "    }\n",
       "</style>\n",
       "<table border=\"1\" class=\"dataframe\">\n",
       "  <thead>\n",
       "    <tr style=\"text-align: right;\">\n",
       "      <th></th>\n",
       "      <th>SmallCap</th>\n",
       "      <th>LargeCap</th>\n",
       "    </tr>\n",
       "  </thead>\n",
       "  <tbody>\n",
       "    <tr>\n",
       "      <td>192607</td>\n",
       "      <td>-0.0145</td>\n",
       "      <td>0.0329</td>\n",
       "    </tr>\n",
       "    <tr>\n",
       "      <td>192608</td>\n",
       "      <td>0.0512</td>\n",
       "      <td>0.0370</td>\n",
       "    </tr>\n",
       "    <tr>\n",
       "      <td>192609</td>\n",
       "      <td>0.0093</td>\n",
       "      <td>0.0067</td>\n",
       "    </tr>\n",
       "    <tr>\n",
       "      <td>192610</td>\n",
       "      <td>-0.0484</td>\n",
       "      <td>-0.0243</td>\n",
       "    </tr>\n",
       "    <tr>\n",
       "      <td>192611</td>\n",
       "      <td>-0.0078</td>\n",
       "      <td>0.0270</td>\n",
       "    </tr>\n",
       "    <tr>\n",
       "      <td>...</td>\n",
       "      <td>...</td>\n",
       "      <td>...</td>\n",
       "    </tr>\n",
       "    <tr>\n",
       "      <td>201808</td>\n",
       "      <td>0.0241</td>\n",
       "      <td>0.0234</td>\n",
       "    </tr>\n",
       "    <tr>\n",
       "      <td>201809</td>\n",
       "      <td>-0.0168</td>\n",
       "      <td>0.0087</td>\n",
       "    </tr>\n",
       "    <tr>\n",
       "      <td>201810</td>\n",
       "      <td>-0.1002</td>\n",
       "      <td>-0.0657</td>\n",
       "    </tr>\n",
       "    <tr>\n",
       "      <td>201811</td>\n",
       "      <td>-0.0365</td>\n",
       "      <td>0.0253</td>\n",
       "    </tr>\n",
       "    <tr>\n",
       "      <td>201812</td>\n",
       "      <td>-0.1531</td>\n",
       "      <td>-0.0890</td>\n",
       "    </tr>\n",
       "  </tbody>\n",
       "</table>\n",
       "<p>1110 rows × 2 columns</p>\n",
       "</div>"
      ],
      "text/plain": [
       "        SmallCap  LargeCap\n",
       "192607   -0.0145    0.0329\n",
       "192608    0.0512    0.0370\n",
       "192609    0.0093    0.0067\n",
       "192610   -0.0484   -0.0243\n",
       "192611   -0.0078    0.0270\n",
       "...          ...       ...\n",
       "201808    0.0241    0.0234\n",
       "201809   -0.0168    0.0087\n",
       "201810   -0.1002   -0.0657\n",
       "201811   -0.0365    0.0253\n",
       "201812   -0.1531   -0.0890\n",
       "\n",
       "[1110 rows x 2 columns]"
      ]
     },
     "execution_count": 146,
     "metadata": {},
     "output_type": "execute_result"
    }
   ],
   "source": [
    "returns"
   ]
  }
 ],
 "metadata": {
  "kernelspec": {
   "display_name": "Python 3",
   "language": "python",
   "name": "python3"
  },
  "language_info": {
   "codemirror_mode": {
    "name": "ipython",
    "version": 3
   },
   "file_extension": ".py",
   "mimetype": "text/x-python",
   "name": "python",
   "nbconvert_exporter": "python",
   "pygments_lexer": "ipython3",
   "version": "3.7.4"
  }
 },
 "nbformat": 4,
 "nbformat_minor": 2
}
